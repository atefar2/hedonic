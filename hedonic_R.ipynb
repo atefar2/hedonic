{
 "cells": [
  {
   "cell_type": "code",
   "execution_count": 1,
   "metadata": {
    "collapsed": false
   },
   "outputs": [
    {
     "name": "stdout",
     "output_type": "stream",
     "text": [
      "'data.frame':\t506 obs. of  14 variables:\n",
      " $ CRIM   : num  0.00632 0.02731 0.02729 0.03237 0.06905 ...\n",
      " $ ZN     : num  18 0 0 0 0 0 12.5 12.5 12.5 12.5 ...\n",
      " $ INDUS  : num  2.31 7.07 7.07 2.18 2.18 2.18 7.87 7.87 7.87 7.87 ...\n",
      " $ CHAS   : Factor w/ 2 levels \"0\",\"1\": 1 1 1 1 1 1 1 1 1 1 ...\n",
      " $ NOX    : num  0.538 0.469 0.469 0.458 0.458 0.458 0.524 0.524 0.524 0.524 ...\n",
      " $ RM     : num  6.58 6.42 7.18 7 7.15 ...\n",
      " $ AGE    : num  65.2 78.9 61.1 45.8 54.2 58.7 66.6 96.1 100 85.9 ...\n",
      " $ DIS    : num  4.09 4.97 4.97 6.06 6.06 ...\n",
      " $ RAD    : int  1 2 2 3 3 3 5 5 5 5 ...\n",
      " $ TAX    : num  296 242 242 222 222 222 311 311 311 311 ...\n",
      " $ PTRATIO: num  15.3 17.8 17.8 18.7 18.7 18.7 15.2 15.2 15.2 15.2 ...\n",
      " $ B      : num  397 397 393 395 397 ...\n",
      " $ LSTAT  : num  4.98 9.14 4.03 2.94 5.33 ...\n",
      " $ MEDV   : num  24 21.6 34.7 33.4 36.2 28.7 22.9 27.1 16.5 18.9 ...\n"
     ]
    }
   ],
   "source": [
    "set.seed(1234)\n",
    "\n",
    "fin = file.path(\"data\", \"housing.data\")\n",
    "df = read.table(fin, \n",
    "                sep=\",\", \n",
    "                col.names=c(\"CRIM\", \n",
    "                           \"ZN\", \n",
    "                           \"INDUS\", \n",
    "                           \"CHAS\", \n",
    "                           \"NOX\", \n",
    "                           \"RM\", \n",
    "                           \"AGE\", \n",
    "                           \"DIS\", \n",
    "                           \"RAD\", \n",
    "                           \"TAX\", \n",
    "                           \"PTRATIO\", \n",
    "                           \"B\",\n",
    "                           \"LSTAT\",\n",
    "                           \"MEDV\"))\n",
    "\n",
    "#str(df)\n",
    "\n",
    "df$CHAS = as.factor(df$CHAS)\n",
    "str(df)"
   ]
  },
  {
   "cell_type": "code",
   "execution_count": 2,
   "metadata": {
    "collapsed": true
   },
   "outputs": [],
   "source": [
    "# shuffle the rows in our data randomly\n",
    "df = df[sample(nrow(df)),]\n",
    "train = df[c(1:400),]\n",
    "test  = df[c(401:506),]"
   ]
  },
  {
   "cell_type": "code",
   "execution_count": 3,
   "metadata": {
    "collapsed": false
   },
   "outputs": [
    {
     "data": {
      "text/plain": [
       "\n",
       "Call:\n",
       "lm(formula = MEDV ~ ., data = train)\n",
       "\n",
       "Residuals:\n",
       "     Min       1Q   Median       3Q      Max \n",
       "-13.6243  -2.9500  -0.5499   1.8155  24.8050 \n",
       "\n",
       "Coefficients:\n",
       "              Estimate Std. Error t value Pr(>|t|)    \n",
       "(Intercept)  45.471477   6.057729   7.506 4.24e-13 ***\n",
       "CRIM         -0.083687   0.050065  -1.672  0.09542 .  \n",
       "ZN            0.047491   0.015897   2.987  0.00299 ** \n",
       "INDUS         0.039260   0.071243   0.551  0.58191    \n",
       "CHAS1         2.747515   0.969562   2.834  0.00484 ** \n",
       "NOX         -19.703295   4.463396  -4.414 1.32e-05 ***\n",
       "RM            2.946321   0.481168   6.123 2.26e-09 ***\n",
       "AGE          -0.007292   0.015794  -0.462  0.64457    \n",
       "DIS          -1.577449   0.226999  -6.949 1.57e-11 ***\n",
       "RAD           0.324745   0.079210   4.100 5.04e-05 ***\n",
       "TAX          -0.013243   0.004346  -3.047  0.00247 ** \n",
       "PTRATIO      -1.001927   0.154031  -6.505 2.42e-10 ***\n",
       "B             0.008531   0.003357   2.541  0.01144 *  \n",
       "LSTAT        -0.564716   0.057058  -9.897  < 2e-16 ***\n",
       "---\n",
       "Signif. codes:  0 '***' 0.001 '**' 0.01 '*' 0.05 '.' 0.1 ' ' 1\n",
       "\n",
       "Residual standard error: 4.894 on 386 degrees of freedom\n",
       "Multiple R-squared:  0.7192,\tAdjusted R-squared:  0.7098 \n",
       "F-statistic: 76.07 on 13 and 386 DF,  p-value: < 2.2e-16\n"
      ]
     },
     "metadata": {},
     "output_type": "display_data"
    }
   ],
   "source": [
    "# use all independent variables\n",
    "#   Note the CRIM, INDUS, AGE, B appear to have little effect?\n",
    "model1 = lm(MEDV ~ ., data=train)\n",
    "summary(model1)"
   ]
  },
  {
   "cell_type": "code",
   "execution_count": 4,
   "metadata": {
    "collapsed": false
   },
   "outputs": [
    {
     "data": {
      "text/plain": [
       "\n",
       "Call:\n",
       "lm(formula = MEDV ~ ZN + CHAS + NOX + RM + DIS + RAD + TAX + \n",
       "    PTRATIO + LSTAT, data = train)\n",
       "\n",
       "Residuals:\n",
       "     Min       1Q   Median       3Q      Max \n",
       "-12.9872  -2.8718  -0.6543   2.0191  25.1688 \n",
       "\n",
       "Coefficients:\n",
       "              Estimate Std. Error t value Pr(>|t|)    \n",
       "(Intercept)  48.968022   5.774913   8.479 4.73e-16 ***\n",
       "ZN            0.045166   0.015754   2.867  0.00437 ** \n",
       "CHAS1         3.057863   0.972225   3.145  0.00179 ** \n",
       "NOX         -19.810398   4.128082  -4.799 2.28e-06 ***\n",
       "RM            2.830447   0.474357   5.967 5.43e-09 ***\n",
       "DIS          -1.542903   0.212315  -7.267 2.02e-12 ***\n",
       "RAD           0.250940   0.072908   3.442  0.00064 ***\n",
       "TAX          -0.012542   0.004055  -3.093  0.00213 ** \n",
       "PTRATIO      -0.953186   0.152292  -6.259 1.02e-09 ***\n",
       "LSTAT        -0.613036   0.052991 -11.569  < 2e-16 ***\n",
       "---\n",
       "Signif. codes:  0 '***' 0.001 '**' 0.01 '*' 0.05 '.' 0.1 ' ' 1\n",
       "\n",
       "Residual standard error: 4.952 on 390 degrees of freedom\n",
       "Multiple R-squared:  0.7095,\tAdjusted R-squared:  0.7028 \n",
       "F-statistic: 105.8 on 9 and 390 DF,  p-value: < 2.2e-16\n"
      ]
     },
     "metadata": {},
     "output_type": "display_data"
    }
   ],
   "source": [
    "# try another model w/out CRIM, INDUS, AGE, B\n",
    "model2 = lm(MEDV ~ ZN+CHAS+NOX+RM+DIS+RAD+TAX+PTRATIO+LSTAT, data=train)\n",
    "summary(model2)"
   ]
  },
  {
   "cell_type": "code",
   "execution_count": 5,
   "metadata": {
    "collapsed": true
   },
   "outputs": [],
   "source": [
    "model1.res = resid(model1)\n",
    "model2.res = resid(model2)"
   ]
  },
  {
   "cell_type": "code",
   "execution_count": 6,
   "metadata": {
    "collapsed": false
   },
   "outputs": [
    {
     "data": {
      "image/png": "[encoded data removed]",
      "text/plain": [
       "plot without title"
      ]
     },
     "metadata": {},
     "output_type": "display_data"
    }
   ],
   "source": [
    "par(mfrow=c(2,1))\n",
    "plot(train$MEDV, model1.res)\n",
    "abline(a=0, b=0, col=\"red\")\n",
    "plot(train$MEDV, model2.res)\n",
    "abline(a=0, b=0, col=\"blue\")"
   ]
  },
  {
   "cell_type": "code",
   "execution_count": null,
   "metadata": {
    "collapsed": true
   },
   "outputs": [],
   "source": []
  }
 ],
 "metadata": {
  "kernelspec": {
   "display_name": "R",
   "language": "R",
   "name": "ir"
  },
  "language_info": {
   "codemirror_mode": "r",
   "file_extension": ".r",
   "mimetype": "text/x-r-source",
   "name": "R",
   "pygments_lexer": "r",
   "version": "3.3.1"
  }
 },
 "nbformat": 4,
 "nbformat_minor": 0
}
